{
  "nbformat": 4,
  "nbformat_minor": 0,
  "metadata": {
    "colab": {
      "provenance": [],
      "authorship_tag": "ABX9TyMcMdaNy8vHRYxv43HnflU7",
      "include_colab_link": true
    },
    "kernelspec": {
      "name": "python3",
      "display_name": "Python 3"
    },
    "language_info": {
      "name": "python"
    }
  },
  "cells": [
    {
      "cell_type": "markdown",
      "metadata": {
        "id": "view-in-github",
        "colab_type": "text"
      },
      "source": [
        "<a href=\"https://colab.research.google.com/github/rehan363/Agentic-projectts/blob/main/project01(chat_agent).ipynb\" target=\"_parent\"><img src=\"https://colab.research.google.com/assets/colab-badge.svg\" alt=\"Open In Colab\"/></a>"
      ]
    },
    {
      "cell_type": "markdown",
      "source": [
        "#Agentic AI Chatbot Prototype 1\n",
        "\n",
        "\n"
      ],
      "metadata": {
        "id": "7J7QREGjHUJT"
      }
    },
    {
      "cell_type": "markdown",
      "source": [
        "##Customer Service Chatbot\n"
      ],
      "metadata": {
        "id": "yDR3410yyrqS"
      }
    },
    {
      "cell_type": "markdown",
      "source": [
        "Installing the necessary pakages"
      ],
      "metadata": {
        "id": "go8UjsPze1P2"
      }
    },
    {
      "cell_type": "code",
      "execution_count": 23,
      "metadata": {
        "id": "iUjOgmlnFxYv",
        "collapsed": true
      },
      "outputs": [],
      "source": [
        "!pip install -q -U  langchain langgraph langchain_core langchain_google_genai"
      ]
    },
    {
      "cell_type": "markdown",
      "source": [
        "Setting up api key"
      ],
      "metadata": {
        "id": "UV2NDBgZtRQY"
      }
    },
    {
      "cell_type": "code",
      "source": [
        "from langchain_google_genai import ChatGoogleGenerativeAI\n",
        "from google.colab import userdata\n",
        "gemini_api_key= userdata.get('GOOGLE_API_KEY')"
      ],
      "metadata": {
        "id": "mUZWbijWe9Ps"
      },
      "execution_count": 24,
      "outputs": []
    },
    {
      "cell_type": "markdown",
      "source": [
        "Selecting LLM"
      ],
      "metadata": {
        "id": "9Gtu4pUWt3Zq"
      }
    },
    {
      "cell_type": "code",
      "source": [
        "llm= ChatGoogleGenerativeAI(\n",
        "    model='gemini-1.5-flash',\n",
        "    api_key= gemini_api_key\n",
        ")"
      ],
      "metadata": {
        "id": "1ZN86ZzJsutj"
      },
      "execution_count": 25,
      "outputs": []
    },
    {
      "cell_type": "markdown",
      "source": [
        "## Chatbot Functionality\n",
        "- Complaint Filing\n",
        "- FAQ Assistance\n",
        "- Order/Service Tracking\n"
      ],
      "metadata": {
        "id": "sFNY8o3nzDGk"
      }
    },
    {
      "cell_type": "markdown",
      "source": [
        "importing necessary pakages"
      ],
      "metadata": {
        "id": "5BvFAOcikfz3"
      }
    },
    {
      "cell_type": "code",
      "source": [
        "from langgraph.graph import MessagesState\n",
        "from langchain_core.messages import HumanMessage, SystemMessage, AIMessage\n",
        "from langgraph.prebuilt import ToolNode , tools_condition\n",
        "from IPython.display import display , Image\n",
        "from langgraph.graph.state import CompiledStateGraph\n",
        "from langgraph.graph import START , END , StateGraph\n",
        "from langgraph.checkpoint.memory import MemorySaver\n",
        "from pprint import pprint"
      ],
      "metadata": {
        "id": "OSajrGiMkC6e"
      },
      "execution_count": 28,
      "outputs": []
    },
    {
      "cell_type": "markdown",
      "source": [
        "Defining tools"
      ],
      "metadata": {
        "id": "F_R4GBUuBdO-"
      }
    },
    {
      "cell_type": "code",
      "source": [
        "#first tool for filing complain\n",
        "def filing_complaint(order_id : str, issue : str):\n",
        "  \"\"\" file complaint by getting order_id and issue provided by user\n",
        "Args:\n",
        "     order_id : first argument\n",
        "     issue : secound argument\n",
        "\n",
        "Return:\n",
        "    provide clear message that complaint is registered against order_id and desired issue according to  user input\n",
        "\"\"\"\n",
        "  return f\"Complaint filled Sucessfuly against order_id: {order_id} and issue: {issue}\"\n",
        "\n",
        "#secound tool for faqs\n",
        "def faqs(question: str, answer:str)->str:\n",
        "  \"\"\" respond to frequently asked question\n",
        "   faqs_list={\n",
        "      \"what are your working hours\": \"Our customer service is available 24/7.\",\n",
        "      \"how can I file a complaint\": \"You can file a complaint by providing your order ID and a brief description of the issue.\",\n",
        "      \"what is your refund policy\": \"Our refund policy allows returns within 30 days of purchase with the original receipt.\",\n",
        "      \"how do I track my order\": \"Please provide your order ID to track your order status.\",\n",
        "      \"what payment methods do you accept\": \"We accept credit cards, debit cards, and bank transfers.\",\n",
        "      \"can I cancel my order\": \"Yes, you can cancel your order within 24 hours of placing it.\"\n",
        "  }\n",
        "      Args:\n",
        "        question: the user question as a string\n",
        "      Return:\n",
        "        the string containing the answer to the question or default response if question is not in faqs list if the question somehow mached with the questions\n",
        "        in faqs generate default response but with same answers provides in faqs list.\n",
        "\n",
        "\n",
        "\"\"\"\n",
        "#third tool for order tracking\n",
        "def track_order(order_id: str)->str:\n",
        "  \"\"\" respond the answers related to order_tracking by getting order id from user.\n",
        "    Argus:\n",
        "      order_id\n",
        "    Return:\n",
        "      the string cntaining the current status of the order from order id \"\"\"\n",
        "#dummy data of orders\n",
        "  order_database = {\n",
        "        \"12345\": \"Your order #12345 is being prepared for shipment.\",\n",
        "        \"67890\": \"Your order #67890 has been shipped and is on the way!\",\n",
        "        \"54321\": \"Your order #54321 has been delivered.\",\n",
        "    }\n",
        "#control statments if user provide invalid order_id.\n",
        "  if order_id in order_database:\n",
        "    return order_database[order_id]\n",
        "  else:\n",
        "    return f\"Invalid order_id {order_id}. I couldn't find any information about your order.\"\n",
        "\n",
        "#combining all the tools in a variable\n",
        "tools=[filing_complaint, faqs, track_order]\n",
        "#binding tools with llm\n",
        "llm_with_tools= llm.bind_tools(tools)"
      ],
      "metadata": {
        "id": "vGQxZNCl4pBt"
      },
      "execution_count": 29,
      "outputs": []
    },
    {
      "cell_type": "code",
      "source": [
        "#system prompt\n",
        "customer_service_prompt= \"\"\"\n",
        "you are the customer service assistant. your job is to\n",
        "- Assist users with filing complaints by gathering the necessary details (order ID, issue, etc.).\n",
        "- Answer the commonly asked (faq) according to the user input\n",
        "- Provide tracking details for the order or service request if requried\n",
        "\n",
        " *handel irrelevent questions peacefully\n",
        "  if user ask question that is not relevent to the customer support service or provided tools respond politely with\n",
        "  \"I'm sorry, I'm not equipped to answer that question. My expertise lies in customer service related to complaints,\n",
        "   FAQs, and order tracking. Is there anything else I can help you with regarding these areas?\"\n",
        "\n",
        "Stay polite,consise and provide clear response\"\"\"\n",
        "\n",
        "\n",
        "sys_message= SystemMessage(content=customer_service_prompt)\n",
        "\n",
        "\n"
      ],
      "metadata": {
        "id": "CbIEgtqzGb9P"
      },
      "execution_count": 30,
      "outputs": []
    },
    {
      "cell_type": "markdown",
      "source": [
        "Defining Node"
      ],
      "metadata": {
        "id": "G0YAl3qLjhuo"
      }
    },
    {
      "cell_type": "code",
      "source": [
        "\n",
        "def customer_assistant(state: MessagesState):\n",
        "    \"\"\" Handles customer interactions and greeting user if necessary\n",
        "    provide your introduction of customer suppot agent if user ask \"\"\"\n",
        "\n",
        "    #return system message as well as state message by invoking llm with tools\n",
        "    return {\"messages\": [llm_with_tools.invoke([sys_message] + state[\"messages\"])]}"
      ],
      "metadata": {
        "id": "bsoRkBU0x5Ke"
      },
      "execution_count": 31,
      "outputs": []
    },
    {
      "cell_type": "markdown",
      "source": [
        "graph construction"
      ],
      "metadata": {
        "id": "3Ee048wwkqHp"
      }
    },
    {
      "cell_type": "code",
      "source": [
        "\n",
        "builder: StateGraph = StateGraph(MessagesState)\n",
        "\n",
        "#adding noodes:\n",
        "#node1\n",
        "builder.add_node(\"customer_assistant\", customer_assistant)\n",
        "#node2\n",
        "\n",
        "builder.add_node(\"tools\",ToolNode(tools))\n",
        "\n",
        "#adding edges:\n",
        "builder.add_edge(START, \"customer_assistant\")\n",
        "#conditional edges for making it REACT agent\n",
        "builder.add_conditional_edges(\"customer_assistant\",\n",
        "            #if\n",
        "                              tools_condition)\n",
        "builder.add_edge(\"tools\", \"customer_assistant\")\n",
        "\n",
        "#compiling graph\n",
        "react_graph: CompiledStateGraph = builder.compile()\n",
        "\n",
        "#graph view\n",
        "display(Image(react_graph.get_graph().draw_mermaid_png()))"
      ],
      "metadata": {
        "id": "XIoBObCQzEJ8",
        "colab": {
          "base_uri": "https://localhost:8080/",
          "height": 266
        },
        "outputId": "f1e119bd-01c2-49cd-fb67-832d5dfadfc9"
      },
      "execution_count": 32,
      "outputs": [
        {
          "output_type": "display_data",
          "data": {
            "image/png": "[encoded data removed]",
            "text/plain": [
              "<IPython.core.display.Image object>"
            ]
          },
          "metadata": {}
        }
      ]
    },
    {
      "cell_type": "markdown",
      "source": [
        "Adding short term memory in chatbot"
      ],
      "metadata": {
        "id": "7exH4upelItl"
      }
    },
    {
      "cell_type": "code",
      "source": [
        "memory: MemorySaver= MemorySaver()\n",
        "graph_with_memory: CompiledStateGraph= builder.compile(checkpointer=memory)"
      ],
      "metadata": {
        "id": "nJdfvBbr7Arq"
      },
      "execution_count": 33,
      "outputs": []
    },
    {
      "cell_type": "code",
      "source": [
        "#defining specific thread id for chat\n",
        "config1= {\"configurable\": {\"thread_id\": \"1\"}}\n",
        "\n",
        "#human message\n",
        "messages= [HumanMessage(content=\"123458\")]\n",
        "\n",
        "messages= graph_with_memory.invoke({\"messages\":messages},config1)\n",
        "\n",
        "\n",
        "for m in messages[\"messages\"]:\n",
        "    m.pretty_print()\n"
      ],
      "metadata": {
        "colab": {
          "base_uri": "https://localhost:8080/"
        },
        "id": "-0RyNcG_74P9",
        "outputId": "3a7be7e4-efdd-4dce-8ae0-1a42cb712592"
      },
      "execution_count": 22,
      "outputs": [
        {
          "output_type": "stream",
          "name": "stdout",
          "text": [
            "================================\u001b[1m Human Message \u001b[0m=================================\n",
            "\n",
            "who are you?\n",
            "==================================\u001b[1m Ai Message \u001b[0m==================================\n",
            "\n",
            "I'm a customer service assistant here to help you with complaints, FAQs, and order tracking.\n",
            "================================\u001b[1m Human Message \u001b[0m=================================\n",
            "\n",
            "w?\n",
            "==================================\u001b[1m Ai Message \u001b[0m==================================\n",
            "\n",
            "I'm sorry, I'm not equipped to answer that question. My expertise lies in customer service related to complaints, FAQs, and order tracking. Is there anything else I can help you with regarding these areas?\n",
            "================================\u001b[1m Human Message \u001b[0m=================================\n",
            "\n",
            "i want to track order?\n",
            "==================================\u001b[1m Ai Message \u001b[0m==================================\n",
            "\n",
            "What is your order ID, please?\n",
            "================================\u001b[1m Human Message \u001b[0m=================================\n",
            "\n",
            "12345?\n",
            "==================================\u001b[1m Ai Message \u001b[0m==================================\n",
            "Tool Calls:\n",
            "  track_order (95c4ecbc-34a8-4ed2-98e3-bbfd0a40e5ea)\n",
            " Call ID: 95c4ecbc-34a8-4ed2-98e3-bbfd0a40e5ea\n",
            "  Args:\n",
            "    order_id: 12345\n",
            "=================================\u001b[1m Tool Message \u001b[0m=================================\n",
            "Name: track_order\n",
            "\n",
            "Your order #12345 is being prepared for shipment.\n",
            "==================================\u001b[1m Ai Message \u001b[0m==================================\n",
            "\n",
            "Your order #12345 is being prepared for shipment.\n",
            "================================\u001b[1m Human Message \u001b[0m=================================\n",
            "\n",
            "123458\n",
            "==================================\u001b[1m Ai Message \u001b[0m==================================\n",
            "Tool Calls:\n",
            "  track_order (beb30668-c9c5-4a9d-bef2-231dc8eeb15c)\n",
            " Call ID: beb30668-c9c5-4a9d-bef2-231dc8eeb15c\n",
            "  Args:\n",
            "    order_id: 123458\n",
            "=================================\u001b[1m Tool Message \u001b[0m=================================\n",
            "Name: track_order\n",
            "\n",
            "Invalid order_id 123458. I couldn't find any information about your order.\n",
            "==================================\u001b[1m Ai Message \u001b[0m==================================\n",
            "\n",
            "I'm sorry, I couldn't find any information about your order with the ID 123458.  Please double-check the order ID for accuracy.\n"
          ]
        }
      ]
    }
  ]
}